{
  "nbformat": 4,
  "nbformat_minor": 0,
  "metadata": {
    "colab": {
      "provenance": [],
      "authorship_tag": "ABX9TyP9/RLT01Pwu1PBYtq6X2BV",
      "include_colab_link": true
    },
    "kernelspec": {
      "name": "python3",
      "display_name": "Python 3"
    },
    "language_info": {
      "name": "python"
    }
  },
  "cells": [
    {
      "cell_type": "markdown",
      "metadata": {
        "id": "view-in-github",
        "colab_type": "text"
      },
      "source": [
        "<a href=\"https://colab.research.google.com/github/wavaronr/MetodosNumericos/blob/main/g100401_73_wilmervaron_ej1b.ipynb\" target=\"_parent\"><img src=\"https://colab.research.google.com/assets/colab-badge.svg\" alt=\"Open In Colab\"/></a>"
      ]
    },
    {
      "cell_type": "code",
      "execution_count": null,
      "metadata": {
        "colab": {
          "base_uri": "https://localhost:8080/"
        },
        "id": "kKo9QR7uWuLm",
        "outputId": "e631010e-3ad6-44fc-ab93-327184c445ae"
      },
      "outputs": [
        {
          "output_type": "stream",
          "name": "stdout",
          "text": [
            " La Suma de Riemann del punto medio cuando la particion n es igual a  4  es = 14.345485619392516\n",
            "None\n",
            " La Suma de Riemann del punto medio cuando la particion n es igual a  10  es = 14.404728128210387\n",
            "None\n",
            " La Suma de Riemann del punto medio cuando la particion n es igual a  700  es = 14.416076788639705\n",
            "None\n",
            " La Suma de Riemann del punto medio cuando la particion n es igual a  6000  es = 14.41607907579459\n",
            "None\n"
          ]
        }
      ],
      "source": [
        "from math import exp\n",
        "\n",
        "#funcion del ejecicio\n",
        "def f(x):\n",
        "    return exp(3 * x / 5) + 2\n",
        "\n",
        "a = 0   # Extremo izquierdo del intervalo\n",
        "b = 3   # Extremo derecho del intervalo\n",
        "n = 1   # Número de subintervalos\n",
        "\n",
        "def sumaRiemann(n):\n",
        "  dx = (b - a) / n\n",
        "  xm = a + dx / 2\n",
        "  sumatoria = 0\n",
        "  for i in range(n):\n",
        "    sumatoria += f(xm + i * dx)\n",
        "  resultado = dx * sumatoria\n",
        "  return print(\"La Suma de Riemann del punto medio cuando la particion n es igual a \",n,\" es =\",resultado)\n",
        "\n",
        "print(sumaRiemann(4))\n",
        "print(sumaRiemann(10))\n",
        "print(sumaRiemann(700))\n",
        "print(sumaRiemann(6000))\n"
      ]
    }
  ]
}